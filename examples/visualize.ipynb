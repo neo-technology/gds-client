{
 "cells": [
  {
   "cell_type": "markdown",
   "id": "82568b27",
   "metadata": {},
   "source": [
    "# Visualizing GDS Projections"
   ]
  },
  {
   "cell_type": "markdown",
   "id": "c4b7883a",
   "metadata": {
    "colab_type": "text"
   },
   "source": [
    "<a target=\"_blank\" href=\"https://colab.research.google.com/github/neo4j/graph-data-science-client/blob/main/examples/import-sample-export-gnn.ipynb\">\n",
    "  <img src=\"https://colab.research.google.com/assets/colab-badge.svg\" alt=\"Open In Colab\"/>\n",
    "</a>"
   ]
  },
  {
   "cell_type": "markdown",
   "id": "922d0fbb",
   "metadata": {},
   "source": [
    "This Jupyter notebook is hosted [here](https://github.com/neo4j/graph-data-science-client/blob/main/examples/visualize-with-pyvis.ipynb) in the Neo4j Graph Data Science Client Github repository.\n",
    "\n",
    "The notebook exemplifies how to visualize a graph projection in the GDS Graph Catalog using the `graphdatascience` ([docs](https://neo4j.com/docs/graph-data-science-client/current/)) and `pyvis` ([docs](https://pyvis.readthedocs.io/en/latest/index.html)) libraries."
   ]
  },
  {
   "cell_type": "markdown",
   "id": "c64321df",
   "metadata": {},
   "source": [
    "## Prerequisites\n",
    "\n",
    "Running this notebook requires a Neo4j server with GDS installed.\n",
    "We recommend using Neo4j Desktop with GDS, or AuraDS.\n",
    "\n",
    "Also required are of course the Python libraries `graphdatascience` and `pyvis`:"
   ]
  },
  {
   "cell_type": "code",
   "execution_count": null,
   "id": "dc4c3baf",
   "metadata": {},
   "outputs": [],
   "source": [
    "%pip install graphdatascience pyvis"
   ]
  },
  {
   "cell_type": "markdown",
   "id": "3bdf33d6",
   "metadata": {},
   "source": [
    "## Setup\n",
    "\n",
    "We start by importing our dependencies and setting up our GDS client connection to the database."
   ]
  },
  {
   "cell_type": "code",
   "execution_count": null,
   "id": "26fb276b",
   "metadata": {},
   "outputs": [],
   "source": [
    "from graphdatascience import GraphDataScience\n",
    "import os\n",
    "from pyvis.network import Network"
   ]
  },
  {
   "cell_type": "code",
   "execution_count": null,
   "id": "937f1476",
   "metadata": {},
   "outputs": [],
   "source": [
    "# Get Neo4j DB URI, credentials and name from environment if applicable\n",
    "NEO4J_URI = os.environ.get(\"NEO4J_URI\", \"bolt://localhost:7687\")\n",
    "NEO4J_AUTH = None\n",
    "NEO4J_DB = os.environ.get(\"NEO4J_DB\", \"neo4j\")\n",
    "if os.environ.get(\"NEO4J_USER\") and os.environ.get(\"NEO4J_PASSWORD\"):\n",
    "    NEO4J_AUTH = (\n",
    "        os.environ.get(\"NEO4J_USER\"),\n",
    "        os.environ.get(\"NEO4J_PASSWORD\"),\n",
    "    )\n",
    "gds = GraphDataScience(NEO4J_URI, auth=NEO4J_AUTH, database=NEO4J_DB)"
   ]
  },
  {
   "cell_type": "markdown",
   "id": "a96b84b5",
   "metadata": {},
   "source": [
    "## Built-in visualization"
   ]
  },
  {
   "cell_type": "markdown",
   "id": "aa1f778c",
   "metadata": {},
   "source": [
    "### IMDB"
   ]
  },
  {
   "cell_type": "code",
   "execution_count": null,
   "id": "68125987",
   "metadata": {},
   "outputs": [],
   "source": [
    "G_imdb = gds.graph.load_imdb()"
   ]
  },
  {
   "cell_type": "code",
   "execution_count": null,
   "id": "acc92487",
   "metadata": {},
   "outputs": [],
   "source": [
    "G_imdb.visualize()"
   ]
  },
  {
   "cell_type": "code",
   "execution_count": null,
   "id": "21b17ba8",
   "metadata": {},
   "outputs": [],
   "source": [
    "G_imdb.visualize(directed=False)"
   ]
  },
  {
   "cell_type": "code",
   "execution_count": null,
   "id": "a2f6d726",
   "metadata": {},
   "outputs": [],
   "source": [
    "G_imdb.visualize(directed=False, theme=\"light\")"
   ]
  },
  {
   "cell_type": "code",
   "execution_count": null,
   "id": "29534589",
   "metadata": {},
   "outputs": [],
   "source": [
    "G_imdb.visualize(directed=False, node_count=200)"
   ]
  },
  {
   "cell_type": "code",
   "execution_count": null,
   "id": "b751ec2c",
   "metadata": {},
   "outputs": [],
   "source": [
    "G_imdb.drop()"
   ]
  },
  {
   "cell_type": "markdown",
   "id": "c6713a9d",
   "metadata": {},
   "source": [
    "### Cora"
   ]
  },
  {
   "cell_type": "code",
   "execution_count": null,
   "id": "fe00c465",
   "metadata": {},
   "outputs": [],
   "source": [
    "G_cora = gds.graph.load_cora()"
   ]
  },
  {
   "cell_type": "code",
   "execution_count": null,
   "id": "258747fc",
   "metadata": {},
   "outputs": [],
   "source": [
    "G_cora.visualize()"
   ]
  },
  {
   "cell_type": "code",
   "execution_count": null,
   "id": "6d5a0704",
   "metadata": {},
   "outputs": [],
   "source": [
    "G_cora.visualize(color_property=\"subject\")"
   ]
  },
  {
   "cell_type": "code",
   "execution_count": null,
   "id": "7dfe9e57",
   "metadata": {},
   "outputs": [],
   "source": [
    "G_cora.visualize(color_property=\"subject\", include_node_properties=[\"subject\"])"
   ]
  },
  {
   "cell_type": "code",
   "execution_count": null,
   "id": "db635dd6",
   "metadata": {},
   "outputs": [],
   "source": [
    "gds.degree.mutate(G_cora, mutateProperty=\"deg\")\n",
    "G_cora.visualize(color_property=\"subject\", size_property=\"deg\")"
   ]
  },
  {
   "cell_type": "code",
   "execution_count": null,
   "id": "b6bc16f4",
   "metadata": {},
   "outputs": [],
   "source": [
    "G_cora.visualize(color_property=\"subject\", center_nodes=[12350])"
   ]
  },
  {
   "cell_type": "code",
   "execution_count": null,
   "id": "447f1a2d",
   "metadata": {},
   "outputs": [],
   "source": [
    "G_cora.drop()"
   ]
  },
  {
   "cell_type": "markdown",
   "id": "56dc02c4",
   "metadata": {},
   "source": [
    "## Using PyVis"
   ]
  },
  {
   "cell_type": "markdown",
   "id": "b1a8ab78",
   "metadata": {},
   "source": [
    "### Sampling Cora\n",
    "\n",
    "Next we use the [built-in Cora loader](https://neo4j.com/docs/graph-data-science-client/current/common-datasets/#_cora) to get the data into GDS.\n",
    "The nodes in the Cora dataset is represented by academic papers, and the relationships connecting them are citations.\n",
    "\n",
    "We will then sample a smaller representative subgraph from it that is more suitable for visualization."
   ]
  },
  {
   "cell_type": "code",
   "execution_count": null,
   "id": "a575da60",
   "metadata": {},
   "outputs": [],
   "source": [
    "G = gds.graph.load_cora()"
   ]
  },
  {
   "cell_type": "markdown",
   "id": "723d6457",
   "metadata": {},
   "source": [
    "Let's make sure we constructed the correct graph."
   ]
  },
  {
   "cell_type": "code",
   "execution_count": null,
   "id": "428ac7b8",
   "metadata": {},
   "outputs": [],
   "source": [
    "print(f\"Metadata for our loaded Cora graph `G`: {G}\")\n",
    "print(f\"Node labels present in `G`: {G.node_labels()}\")"
   ]
  },
  {
   "cell_type": "code",
   "execution_count": null,
   "id": "b6aceb0a",
   "metadata": {},
   "outputs": [],
   "source": [
    "G.visualize(color_property=\"subject\")"
   ]
  },
  {
   "cell_type": "markdown",
   "id": "3e8b8a83",
   "metadata": {},
   "source": [
    "It's looks correct!\n",
    "Now let's go ahead and sample the graph.\n",
    "\n",
    "We use the random walk with restarts sampling algorithm to get a smaller graph that structurally represents the full graph.\n",
    "In this example we will use the algorithm's default parameters, but check out [the algorithm's docs](https://neo4j.com/docs/graph-data-science/current/management-ops/graph-creation/sampling/rwr/) to see how you can for example specify the size of the subgraph, and choose which start node around which the subgraph will be sampled."
   ]
  },
  {
   "cell_type": "code",
   "execution_count": null,
   "id": "3d116738",
   "metadata": {},
   "outputs": [],
   "source": [
    "G_sample, _ = gds.graph.sample.rwr(\"cora_sample\", G, randomSeed=42, concurrency=1)"
   ]
  },
  {
   "cell_type": "markdown",
   "id": "324e0d4c",
   "metadata": {},
   "source": [
    "We should have somewhere around 0.15 * 2708 ~ 406 nodes in our sample.\n",
    "And let's see how many relationships we got."
   ]
  },
  {
   "cell_type": "code",
   "execution_count": null,
   "id": "d66ea2d5",
   "metadata": {},
   "outputs": [],
   "source": [
    "print(f\"Number of nodes in our sample: {G_sample.node_count()}\")\n",
    "print(f\"Number of relationships in our sample: {G_sample.relationship_count()}\")"
   ]
  },
  {
   "cell_type": "markdown",
   "id": "3dd66079",
   "metadata": {},
   "source": [
    "Let's also compute [PageRank](https://neo4j.com/docs/graph-data-science/current/algorithms/page-rank/) on our sample graph, in order to get an importance score that we call \"rank\" for each node.\n",
    "It will be interesting for context when we visualize the graph."
   ]
  },
  {
   "cell_type": "code",
   "execution_count": null,
   "id": "3d80d653",
   "metadata": {},
   "outputs": [],
   "source": [
    "gds.pageRank.mutate(G_sample, mutateProperty=\"rank\")"
   ]
  },
  {
   "cell_type": "markdown",
   "id": "722caa7b",
   "metadata": {},
   "source": [
    "### Exporting the sampled Cora graph\n",
    "\n",
    "We can now export the topology and node properties of our sampled graph that we want to visualize.\n",
    "\n",
    "Let's start by fetching the relationships."
   ]
  },
  {
   "cell_type": "code",
   "execution_count": null,
   "id": "d3c76b25",
   "metadata": {},
   "outputs": [],
   "source": [
    "sample_topology_df = gds.graph.relationships.stream(G_sample)\n",
    "display(sample_topology_df)"
   ]
  },
  {
   "cell_type": "markdown",
   "id": "a4ad967b",
   "metadata": {},
   "source": [
    "We get the right amount of rows, one for each expected relationship.\n",
    "So that looks good.\n",
    "\n",
    "Next we should fetch the node properties we are interested in.\n",
    "Each node will have a \"subject\" property which will be an integer 0,...,6 that indicates which of seven academic subjects the paper represented by the nodes belong to.\n",
    "We will also fetch the PageRank property \"rank\" that we computed above."
   ]
  },
  {
   "cell_type": "code",
   "execution_count": null,
   "id": "1c52e3b2",
   "metadata": {},
   "outputs": [],
   "source": [
    "sample_node_properties_df = gds.graph.nodeProperties.stream(\n",
    "    G_sample,\n",
    "    [\"subject\", \"rank\"],\n",
    "    separate_property_columns=True,\n",
    ")\n",
    "display(sample_node_properties_df)"
   ]
  },
  {
   "cell_type": "markdown",
   "id": "ff81f977",
   "metadata": {},
   "source": [
    "### Render visualization\n",
    "\n",
    "Now that we have all the data we want to visualize, we can create a network with PyVis.\n",
    "We color each node according to its \"subject\", and size it according to its \"rank\"."
   ]
  },
  {
   "cell_type": "code",
   "execution_count": null,
   "id": "93cb3bdf",
   "metadata": {},
   "outputs": [],
   "source": [
    "net = Network(notebook = True,\n",
    "cdn_resources=\"remote\",\n",
    "                bgcolor = \"#222222\",\n",
    "                font_color = \"white\",\n",
    "                height = \"750px\", # Modify according to your screen size\n",
    "                width = \"100%\",\n",
    ")\n",
    "\n",
    "# Seven suitable light colors, one for each \"subject\"\n",
    "subject_to_color = [\"#80cce9\", \"#fbd266\", \"#a9eebc\", \"#e53145\", \"#d2a6e2\", \"#f3f3f3\", \"#ff91af\"]\n",
    "\n",
    "# Add all the nodes\n",
    "for _, node in sample_node_properties_df.iterrows():\n",
    "    net.add_node(int(node[\"nodeId\"]), color=subject_to_color[int(node[\"subject\"])], value=node[\"rank\"])\n",
    "\n",
    "# Add all the relationships\n",
    "net.add_edges(zip(sample_topology_df[\"sourceNodeId\"], sample_topology_df[\"targetNodeId\"]))\n",
    "\n",
    "net.show(\"cora-sample.html\")"
   ]
  },
  {
   "cell_type": "markdown",
   "id": "8f8bc4a2",
   "metadata": {},
   "source": [
    "Unsurprisingly we can see that papers largely seem clustered by academic subject.\n",
    "We also note that some nodes appear larger in size, indicating that they have a higher centrality score according to PageRank.\n",
    "\n",
    "We can scroll over the graphic to zoom in/out, and \"click and drag\" the background to navigate to different parts of the network.\n",
    "If we click on a node, it will be highlighted along with the relationships connected to it.\n",
    "And if we \"click and drag\" a node, we can move it.\n",
    "\n",
    "Additionally one could enable more sophisticated navigational features for searching and filtering by providing `select_menu = True` and `filter_menu = True` respectively to the PyVis `Network` constructor above.\n",
    "Check out the [PyVis documentation](https://pyvis.readthedocs.io/en/latest/index.html) for this."
   ]
  },
  {
   "cell_type": "markdown",
   "id": "928156de",
   "metadata": {},
   "source": [
    "## Cleanup\n",
    "\n",
    "We remove the Cora graphs from the GDS graph catalog to free up memory."
   ]
  },
  {
   "cell_type": "code",
   "execution_count": null,
   "id": "33523a0b",
   "metadata": {},
   "outputs": [],
   "source": [
    "_ = G_sample.drop()\n",
    "_ = G.drop()"
   ]
  }
 ],
 "metadata": {
  "language_info": {
   "name": "python"
  }
 },
 "nbformat": 4,
 "nbformat_minor": 5
}
