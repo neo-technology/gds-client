{
 "cells": [
  {
   "cell_type": "markdown",
   "id": "11d08c597a9fdbf3",
   "metadata": {
    "collapsed": false
   },
   "source": [
    "# Knowledge Graph Embedding: Transe embedding for constructed dataset"
   ]
  },
  {
   "cell_type": "code",
   "execution_count": null,
   "id": "1652ca866f022d69",
   "metadata": {},
   "outputs": [],
   "source": [
    "import os\n",
    "import time\n",
    "import warnings\n",
    "from neo4j.exceptions import ClientError\n",
    "from graphdatascience import GraphDataScience"
   ]
  },
  {
   "cell_type": "code",
   "execution_count": null,
   "id": "e46dc2dd1419e518",
   "metadata": {},
   "outputs": [],
   "source": [
    "warnings.filterwarnings(\"ignore\", category=DeprecationWarning)"
   ]
  },
  {
   "cell_type": "code",
   "execution_count": null,
   "id": "691981a7e5372ad2",
   "metadata": {},
   "outputs": [],
   "source": [
    "NEO4J_URI = os.environ.get(\"NEO4J_URI\", \"bolt://localhost:7687\")\n",
    "NEO4J_AUTH = None\n",
    "NEO4J_DB = os.environ.get(\"NEO4J_DB\", \"neo4j\")\n",
    "if os.environ.get(\"NEO4J_USER\") and os.environ.get(\"NEO4J_PASSWORD\"):\n",
    "    NEO4J_AUTH = (\n",
    "        os.environ.get(\"NEO4J_USER\"),\n",
    "        os.environ.get(\"NEO4J_PASSWORD\"),\n",
    "    )\n",
    "gds = GraphDataScience(NEO4J_URI, auth=NEO4J_AUTH, database=NEO4J_DB, arrow=True)"
   ]
  },
  {
   "cell_type": "code",
   "execution_count": null,
   "id": "43cbb7c743877929",
   "metadata": {},
   "outputs": [],
   "source": [
    "try:\n",
    "    _ = gds.run_cypher(\"CREATE CONSTRAINT entity_id FOR (e:Entity) REQUIRE e.id IS UNIQUE\")\n",
    "except ClientError:\n",
    "    print(\"CONSTRAINT entity_id already exists\")"
   ]
  },
  {
   "cell_type": "code",
   "execution_count": null,
   "id": "be889ec11e9b5759",
   "metadata": {},
   "outputs": [],
   "source": [
    "import pandas\n",
    "\n",
    "nodes = pandas.DataFrame(\n",
    "    {\n",
    "        \"nodeId\": [0, 1, 2, 3, 7, 10],\n",
    "        \"labels\": [\"A\", \"B\", \"C\", \"A\", \"B\", \"C\"],\n",
    "        \"prop1\": [42, 1337, 8, 0, 1, 2],\n",
    "        \"otherProperty\": [0.1, 0.2, 0.3, 0.4, 0.5, 0.6],\n",
    "    }\n",
    ")\n",
    "\n",
    "relationships = pandas.DataFrame(\n",
    "    {\n",
    "        \"sourceNodeId\": [0, 1, 2, 7],\n",
    "        \"targetNodeId\": [1, 2, 3, 10],\n",
    "        \"relationshipType\": [\"REL1\", \"REL1\", \"REL2\", \"REL2\"],\n",
    "        \"weight\": [0.0, 0.0, 0.1, 42.0],\n",
    "    }\n",
    ")\n",
    "\n",
    "gds.graph.drop(\"my-graph\", failIfMissing=False)\n",
    "G_train = gds.graph.construct(\n",
    "    \"my-graph\",  # Graph name\n",
    "    nodes,  # One or more dataframes containing node data\n",
    "    relationships,  # One or more dataframes containing relationship data\n",
    ")\n",
    "\n",
    "assert \"REL1\" in G_train.relationship_types()\n",
    "assert \"REL2\" in G_train.relationship_types()"
   ]
  },
  {
   "cell_type": "code",
   "execution_count": null,
   "id": "1638be48a275563f",
   "metadata": {},
   "outputs": [],
   "source": [
    "G_train.relationship_types()\n",
    "G_train.node_labels()"
   ]
  },
  {
   "cell_type": "code",
   "execution_count": null,
   "id": "faae17b0f4551e7",
   "metadata": {},
   "outputs": [],
   "source": [
    "gds.set_compute_cluster_ip(\"localhost\")\n",
    "\n",
    "model_name = \"dummyModelName_\" + str(time.time())\n",
    "\n",
    "gds.kge.model.train(\n",
    "    G_train,\n",
    "    model_name=model_name,\n",
    "    scoring_function=\"transe\",\n",
    "    num_epochs=1,\n",
    "    embedding_dimension=16,\n",
    "    epochs_per_checkpoint=0,\n",
    "    split_ratios={\"TRAIN\": 0.75, \"TEST\": 0.25},\n",
    ")"
   ]
  },
  {
   "cell_type": "code",
   "execution_count": null,
   "id": "8d88ba3d372525a6",
   "metadata": {},
   "outputs": [],
   "source": [
    "predict_result = gds.kge.model.predict(\n",
    "    model_name=model_name,\n",
    "    top_k=3,\n",
    "    node_ids=[1, 2, 0, 10, 7],\n",
    "    rel_types=[\"REL1\", \"REL2\"],\n",
    ")\n",
    "\n",
    "print(predict_result.to_string())"
   ]
  }
 ],
 "metadata": {},
 "nbformat": 4,
 "nbformat_minor": 5
}
