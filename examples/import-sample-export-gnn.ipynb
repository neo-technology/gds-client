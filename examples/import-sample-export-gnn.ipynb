{
 "cells": [
  {
   "cell_type": "markdown",
   "id": "82568b27",
   "metadata": {},
   "source": [
    "# Export and integration with PyG example\n",
    "\n",
    "This notebook exemplifies how to use the `graphdatascience` and PyTorch Geometric (PyG) Python libraries to:\n",
    "* Import the CORA dataset directly into GDS\n",
    "* Sample a part of CORA using the [GDS Random walk wi](https://neo4j.com/docs/graph-data-science/current/algorithms/alpha/rwr/)\n",
    "* Export the CORA sample client side\n",
    "* Define and train a Graph Convolutional Neural Network (GCN) on the CORA sample\n",
    "* Evaluate the GCN on a test set"
   ]
  },
  {
   "cell_type": "markdown",
   "id": "c64321df",
   "metadata": {},
   "source": [
    "## Prerequisites\n",
    "\n",
    "Running this notebook requires a Neo4j server with a recent GDS version (2.2+) installed.\n",
    "We recommend using Neo4j Desktop with GDS, or AuraDS.\n",
    "\n",
    "Also required are of course the Python libraries:\n",
    "* `graphdatascience` (see [docs](https://neo4j.com/docs/graph-data-science-client/current/installation/) for installation instructions)\n",
    "* PyG (see [PyG docs](https://pytorch-geometric.readthedocs.io/en/latest/notes/installation.html) for installation instructions)"
   ]
  },
  {
   "cell_type": "markdown",
   "id": "3bdf33d6",
   "metadata": {},
   "source": [
    "## Setup\n",
    "\n",
    "We start by importing our dependencies and setting up our GDS client connection to the database."
   ]
  },
  {
   "cell_type": "code",
   "execution_count": null,
   "id": "dc4c3baf",
   "metadata": {},
   "outputs": [],
   "source": [
    "# Install necessary dependencies\n",
    "%pip install torch torch_scatter torch_sparse torch_geometric pandas graphdatascience"
   ]
  },
  {
   "cell_type": "code",
   "execution_count": null,
   "id": "26fb276b",
   "metadata": {},
   "outputs": [],
   "source": [
    "import pandas as pd\n",
    "from graphdatascience import GraphDataScience\n",
    "import torch\n",
    "from torch_geometric.data import Data\n",
    "import torch.nn.functional as F\n",
    "from torch_geometric.nn import GCNConv\n",
    "from torch_geometric.transforms import RandomNodeSplit\n",
    "import random\n",
    "import numpy as np"
   ]
  },
  {
   "cell_type": "code",
   "execution_count": null,
   "id": "ce14da18",
   "metadata": {},
   "outputs": [],
   "source": [
    "# Set seeds for consistent results\n",
    "random.seed(42)\n",
    "np.random.seed(42)\n",
    "torch.manual_seed(42)\n",
    "torch.cuda.manual_seed_all(42)"
   ]
  },
  {
   "cell_type": "code",
   "execution_count": null,
   "id": "937f1476",
   "metadata": {},
   "outputs": [],
   "source": [
    "# Override NEO4J_URI and NEO4J_AUTH here according to your setup\n",
    "NEO4J_URI = \"bolt://localhost:7687\"\n",
    "NEO4J_AUTH = None\n",
    "gds = GraphDataScience(NEO4J_URI, auth=NEO4J_AUTH)\n",
    "\n",
    "# Necessary if you enabled Arrow on the db\n",
    "gds.set_database(\"neo4j\")"
   ]
  },
  {
   "cell_type": "markdown",
   "id": "b1a8ab78",
   "metadata": {},
   "source": [
    "## Sampling CORA\n",
    "\n",
    "Next we use the built in CORA loader to get the data into GDS. We will then sample it to get a smaller graph to train on."
   ]
  },
  {
   "cell_type": "code",
   "execution_count": null,
   "id": "a575da60",
   "metadata": {},
   "outputs": [],
   "source": [
    "G = gds.graph.load_cora()\n",
    "\n",
    "# Let's make sure we have exactly 2708 \"Paper\" nodes\n",
    "assert G.node_labels() == [\"Paper\"]\n",
    "assert G.node_count() == 2708"
   ]
  },
  {
   "cell_type": "code",
   "execution_count": null,
   "id": "3d116738",
   "metadata": {},
   "outputs": [],
   "source": [
    "# We use the random walk with restarts sampling algorithm with default values\n",
    "G_sample, _ = gds.alpha.graph.sample.rwr(\"cora_sample\", G, randomSeed=42, concurrency=1)\n",
    "\n",
    "# We should have somewhere around 0.15 * 2708 ~ 406 nodes in our sample\n",
    "print(G_sample.node_count())"
   ]
  },
  {
   "cell_type": "markdown",
   "id": "722caa7b",
   "metadata": {},
   "source": [
    "## Exporting sampled CORA\n",
    "\n",
    "We can now export the topology and node properties of the sampled graph that we need to train our model."
   ]
  },
  {
   "cell_type": "code",
   "execution_count": null,
   "id": "d3c76b25",
   "metadata": {},
   "outputs": [],
   "source": [
    "# By using `by_rel_type` we get the topology in a format that can be used as input to several GNN frameworks\n",
    "sample_topology = gds.beta.graph.relationships.stream(G_sample).by_rel_type()\n",
    "\n",
    "# Let's make sure that our expected \"CITES\" relationship type is the only one present\n",
    "sample_topology.keys()"
   ]
  },
  {
   "cell_type": "code",
   "execution_count": null,
   "id": "1c52e3b2",
   "metadata": {},
   "outputs": [],
   "source": [
    "# We also need to export the node properties corresponding to our node labels and features, represented by the\n",
    "# \"subject\" and \"features\" node properties respectively\n",
    "sample_node_properties = gds.graph.nodeProperties.stream(\n",
    "    G_sample,\n",
    "    [\"subject\", \"features\"],\n",
    "    separate_property_columns=True,\n",
    ")\n",
    "\n",
    "# Let's make sure we got the data we expected\n",
    "display(sample_node_properties)"
   ]
  },
  {
   "cell_type": "markdown",
   "id": "75ce6f84",
   "metadata": {},
   "source": [
    "## Constructing GCN input\n",
    "\n",
    "Now that we have all information we need client side, we can construct the PyG `Data` object we will use as training input."
   ]
  },
  {
   "cell_type": "code",
   "execution_count": null,
   "id": "1f7027dd",
   "metadata": {},
   "outputs": [],
   "source": [
    "# In order for the node ids used in the `topology` to be consecutive and starting from zero,\n",
    "# we will need to remap them. This way they will also align with the row numbering of the\n",
    "# `sample_node_properties` data frame\n",
    "def normalize_topology_index(new_idx_to_old, topology):\n",
    "    # Create a reverse mapping based on new idx -> old idx\n",
    "    old_idx_to_new = dict((v, k) for k, v in new_idx_to_old.items())\n",
    "    return [[old_idx_to_new[node_id] for node_id in nodes] for nodes in topology]"
   ]
  },
  {
   "cell_type": "code",
   "execution_count": null,
   "id": "d795e325",
   "metadata": {},
   "outputs": [],
   "source": [
    "# We use the ordering of node ids in `sample_node_properties` as our remapping\n",
    "edge_index = torch.tensor(\n",
    "    normalize_topology_index(dict(sample_node_properties[\"nodeId\"]), sample_topology[\"CITES\"]), dtype=torch.long\n",
    ")\n",
    "\n",
    "# We specify the node property \"features\" as the zero-layer node embeddings\n",
    "x = torch.tensor(sample_node_properties[\"features\"], dtype=torch.float)\n",
    "# We specify the node property \"subject\" as class labels\n",
    "y = torch.tensor(sample_node_properties[\"subject\"], dtype=torch.long)\n",
    "\n",
    "data = Data(x=x, y=y, edge_index=edge_index)\n",
    "num_classes = y.unique().shape[0]"
   ]
  },
  {
   "cell_type": "code",
   "execution_count": null,
   "id": "7b1885ce",
   "metadata": {},
   "outputs": [],
   "source": [
    "# Do a random split of the data so that ~10% goes into a test set and the rest used for training\n",
    "transform = RandomNodeSplit(num_test=40, num_val=0)\n",
    "transform(data)"
   ]
  },
  {
   "cell_type": "markdown",
   "id": "4f9ceb11",
   "metadata": {},
   "source": [
    "## Training and evaluating a GCN\n",
    "\n",
    "Let's now define and traing the GCN using PyG and our sampled CORA as input. We adapt the CORA GCN example from the [PyG documentation](https://pytorch-geometric.readthedocs.io/en/latest/notes/introduction.html#learning-methods-on-graphs).\n",
    "\n",
    "In this example we evaluate the model on a test set of the sampled CORA. Please note however, that since GCN is an inductive algorithm we could also have evaluated it on the full CORA dataset, or even another (similar) graph for that matter."
   ]
  },
  {
   "cell_type": "code",
   "execution_count": null,
   "id": "74b65751",
   "metadata": {},
   "outputs": [],
   "source": [
    "num_classes = y.unique().shape[0]\n",
    "\n",
    "# Define the GCN architecture\n",
    "class GCN(torch.nn.Module):\n",
    "    def __init__(self):\n",
    "        super().__init__()\n",
    "        self.conv1 = GCNConv(data.num_node_features, 16)\n",
    "        self.conv2 = GCNConv(16, num_classes)\n",
    "\n",
    "    def forward(self, data):\n",
    "        x, edge_index = data.x, data.edge_index\n",
    "\n",
    "        x = self.conv1(x, edge_index)\n",
    "        x = F.relu(x)\n",
    "        x = F.dropout(x, training=self.training)\n",
    "        x = self.conv2(x, edge_index)\n",
    "\n",
    "        return F.log_softmax(x, dim=1)"
   ]
  },
  {
   "cell_type": "code",
   "execution_count": null,
   "id": "02e8fadb",
   "metadata": {},
   "outputs": [],
   "source": [
    "device = torch.device(\"cuda\" if torch.cuda.is_available() else \"cpu\")\n",
    "model = GCN().to(device)\n",
    "data = data.to(device)\n",
    "optimizer = torch.optim.Adam(model.parameters(), lr=0.01, weight_decay=5e-4)\n",
    "\n",
    "# Train the GCN using the CORA sample represented by `data`\n",
    "model.train()\n",
    "for epoch in range(200):\n",
    "    optimizer.zero_grad()\n",
    "    out = model(data)\n",
    "    loss = F.nll_loss(out[data.train_mask], data.y[data.train_mask])\n",
    "    loss.backward()\n",
    "    optimizer.step()"
   ]
  },
  {
   "cell_type": "code",
   "execution_count": null,
   "id": "9169bf30",
   "metadata": {},
   "outputs": [],
   "source": [
    "# Evaluate the trained GCN model on our test set\n",
    "model.eval()\n",
    "pred = model(data).argmax(dim=1)\n",
    "correct = (pred[data.test_mask] == data.y[data.test_mask]).sum()\n",
    "acc = int(correct) / int(data.test_mask.sum())\n",
    "print(f\"Accuracy: {acc:.4f}\")"
   ]
  },
  {
   "cell_type": "markdown",
   "id": "928156de",
   "metadata": {},
   "source": [
    "## Cleanup\n",
    "\n",
    "We remove the CORA graphs from the GDS graph catalog."
   ]
  },
  {
   "cell_type": "code",
   "execution_count": null,
   "id": "33523a0b",
   "metadata": {},
   "outputs": [],
   "source": [
    "G_sample.drop()\n",
    "G.drop()"
   ]
  }
 ],
 "metadata": {
  "kernelspec": {
   "display_name": "Python 3 (ipykernel)",
   "language": "python",
   "name": "python3"
  },
  "language_info": {
   "codemirror_mode": {
    "name": "ipython",
    "version": 3
   },
   "file_extension": ".py",
   "mimetype": "text/x-python",
   "name": "python",
   "nbconvert_exporter": "python",
   "pygments_lexer": "ipython3",
   "version": "3.8.10"
  },
  "vscode": {
   "interpreter": {
    "hash": "916dbcbb3f70747c44a77c7bcd40155683ae19c65e1c03b4aa3499c5328201f1"
   }
  }
 },
 "nbformat": 4,
 "nbformat_minor": 5
}
